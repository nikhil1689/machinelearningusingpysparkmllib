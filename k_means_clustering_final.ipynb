{
 "cells": [
  {
   "cell_type": "code",
   "execution_count": 10,
   "metadata": {
    "collapsed": true
   },
   "outputs": [],
   "source": [
    "# Clustering\n",
    "\n",
    "Clustering is the unsupervised learning task to organize a collection of data into groups\n",
    "\n",
    "K-means Clustering: K-means is the most popular clustering method"
   ]
  },
  {
   "cell_type": "code",
   "execution_count": null,
   "metadata": {
    "collapsed": true
   },
   "outputs": [],
   "source": [
    "from pyspark import SparkContext\n",
    "from pyspark.sql import SQLContext"
   ]
  },
  {
   "cell_type": "code",
   "execution_count": 11,
   "metadata": {
    "collapsed": true
   },
   "outputs": [],
   "source": [
    "sc = SparkContext()\n",
    "sqlContext = SQLContext(sc)"
   ]
  },
  {
   "cell_type": "code",
   "execution_count": 12,
   "metadata": {
    "collapsed": true
   },
   "outputs": [],
   "source": [
    "df = sqlContext.createDataFrame([[0, 33.3, -17.5],\n",
    "                              [1, 40.4, -20.5],\n",
    "                              [2, 28., -23.9],\n",
    "                              [3, 29.5, -19.0],\n",
    "                              [4, 32.8, -18.84]\n",
    "                             ],[\"other\",\"lat\", \"long\"])"
   ]
  },
  {
   "cell_type": "code",
   "execution_count": 13,
   "metadata": {},
   "outputs": [
    {
     "name": "stdout",
     "output_type": "stream",
     "text": [
      "+-----+----+------+\n",
      "|other| lat|  long|\n",
      "+-----+----+------+\n",
      "|    0|33.3| -17.5|\n",
      "|    1|40.4| -20.5|\n",
      "|    2|28.0| -23.9|\n",
      "|    3|29.5| -19.0|\n",
      "|    4|32.8|-18.84|\n",
      "+-----+----+------+\n",
      "\n"
     ]
    }
   ],
   "source": [
    "df.show()"
   ]
  },
  {
   "cell_type": "code",
   "execution_count": 14,
   "metadata": {
    "collapsed": true
   },
   "outputs": [],
   "source": [
    "from pyspark.ml.feature import VectorAssembler"
   ]
  },
  {
   "cell_type": "code",
   "execution_count": 15,
   "metadata": {},
   "outputs": [
    {
     "name": "stdout",
     "output_type": "stream",
     "text": [
      "+-----+----+------+-------------+\n",
      "|other| lat|  long|     features|\n",
      "+-----+----+------+-------------+\n",
      "|    0|33.3| -17.5| [33.3,-17.5]|\n",
      "|    1|40.4| -20.5| [40.4,-20.5]|\n",
      "|    2|28.0| -23.9| [28.0,-23.9]|\n",
      "|    3|29.5| -19.0| [29.5,-19.0]|\n",
      "|    4|32.8|-18.84|[32.8,-18.84]|\n",
      "+-----+----+------+-------------+\n",
      "\n"
     ]
    }
   ],
   "source": [
    "vecAssembler = VectorAssembler(inputCols=[\"lat\", \"long\"], outputCol=\"features\")\n",
    "new_df = vecAssembler.transform(df)\n",
    "new_df.show()\n",
    "\n",
    "# the argument inputCols serves to tell VectoeAssembler \n",
    "# which particular columns in our dataframe are to be used as features.\n",
    "\n"
   ]
  },
  {
   "cell_type": "code",
   "execution_count": 16,
   "metadata": {
    "collapsed": true
   },
   "outputs": [],
   "source": [
    "from pyspark.ml.clustering import KMeans"
   ]
  },
  {
   "cell_type": "code",
   "execution_count": 17,
   "metadata": {
    "collapsed": true
   },
   "outputs": [],
   "source": [
    "kmeans = KMeans(k=2, seed=1)  # 2 clusters here\n",
    "model = kmeans.fit(new_df.select('features'))\n",
    "\n",
    "# select('features') here serves to tell the algorithm \n",
    "# which column of the dataframe to use for clustering\n",
    "# after Step 1 above, your original lat & long features are no more directly used."
   ]
  },
  {
   "cell_type": "code",
   "execution_count": 18,
   "metadata": {},
   "outputs": [
    {
     "name": "stdout",
     "output_type": "stream",
     "text": [
      "+-----+----+------+-------------+----------+\n",
      "|other| lat|  long|     features|prediction|\n",
      "+-----+----+------+-------------+----------+\n",
      "|    0|33.3| -17.5| [33.3,-17.5]|         0|\n",
      "|    1|40.4| -20.5| [40.4,-20.5]|         1|\n",
      "|    2|28.0| -23.9| [28.0,-23.9]|         0|\n",
      "|    3|29.5| -19.0| [29.5,-19.0]|         0|\n",
      "|    4|32.8|-18.84|[32.8,-18.84]|         0|\n",
      "+-----+----+------+-------------+----------+\n",
      "\n"
     ]
    }
   ],
   "source": [
    "transformed = model.transform(new_df)\n",
    "transformed.show()  \n",
    "\n",
    "#The last column of the transformed dataframe, prediction, \n",
    "#shows the cluster assignment - in my toy case, \n",
    "#I have ended up with 4 records in cluster #0 and 1 record in cluster #1."
   ]
  },
  {
   "cell_type": "code",
   "execution_count": 19,
   "metadata": {},
   "outputs": [
    {
     "data": {
      "text/plain": [
       "[Row(lat=33.3, long=-17.5),\n",
       " Row(lat=40.4, long=-20.5),\n",
       " Row(lat=28.0, long=-23.9),\n",
       " Row(lat=29.5, long=-19.0),\n",
       " Row(lat=32.8, long=-18.84)]"
      ]
     },
     "execution_count": 19,
     "metadata": {},
     "output_type": "execute_result"
    }
   ],
   "source": [
    "df.select('lat', 'long').rdd.collect()\n",
    "\n",
    "# When you select columns from a dataframe to convert to RDD, as you do, \n",
    "# the result is an RDD of Rows:"
   ]
  },
  {
   "cell_type": "code",
   "execution_count": 20,
   "metadata": {},
   "outputs": [
    {
     "data": {
      "text/plain": [
       "[(33.3, -17.5), (40.4, -20.5), (28.0, -23.9), (29.5, -19.0), (32.8, -18.84)]"
      ]
     },
     "execution_count": 20,
     "metadata": {},
     "output_type": "execute_result"
    }
   ],
   "source": [
    "df.select('lat', 'long').rdd.map(lambda x: (x[0], x[1])).collect()\n",
    "\n",
    "#above Rdd format is not suitable as an input to MLlib KMeans. \n",
    "#You'll need a map operation for this to work:"
   ]
  },
  {
   "cell_type": "code",
   "execution_count": 21,
   "metadata": {
    "collapsed": true
   },
   "outputs": [],
   "source": [
    "from pyspark.mllib.clustering import KMeans, KMeansModel\n",
    "\n",
    "rdd = df.select('lat', 'long').rdd.map(lambda x: (x[0], x[1]))\n",
    "clusters = KMeans.train(rdd, 2, maxIterations=10, initializationMode=\"random\")"
   ]
  },
  {
   "cell_type": "code",
   "execution_count": 22,
   "metadata": {},
   "outputs": [
    {
     "data": {
      "text/plain": [
       "[array([ 30.1 , -20.58]), array([ 36.85, -19.  ])]"
      ]
     },
     "execution_count": 22,
     "metadata": {},
     "output_type": "execute_result"
    }
   ],
   "source": [
    "clusters.centers"
   ]
  },
  {
   "cell_type": "code",
   "execution_count": 25,
   "metadata": {},
   "outputs": [
    {
     "data": {
      "text/html": [
       "<div>\n",
       "<style scoped>\n",
       "    .dataframe tbody tr th:only-of-type {\n",
       "        vertical-align: middle;\n",
       "    }\n",
       "\n",
       "    .dataframe tbody tr th {\n",
       "        vertical-align: top;\n",
       "    }\n",
       "\n",
       "    .dataframe thead th {\n",
       "        text-align: right;\n",
       "    }\n",
       "</style>\n",
       "<table border=\"1\" class=\"dataframe\">\n",
       "  <thead>\n",
       "    <tr style=\"text-align: right;\">\n",
       "      <th></th>\n",
       "      <th>col1</th>\n",
       "      <th>col2</th>\n",
       "    </tr>\n",
       "  </thead>\n",
       "  <tbody>\n",
       "    <tr>\n",
       "      <th>0</th>\n",
       "      <td>30.10</td>\n",
       "      <td>-20.58</td>\n",
       "    </tr>\n",
       "    <tr>\n",
       "      <th>1</th>\n",
       "      <td>36.85</td>\n",
       "      <td>-19.00</td>\n",
       "    </tr>\n",
       "  </tbody>\n",
       "</table>\n",
       "</div>"
      ],
      "text/plain": [
       "    col1   col2\n",
       "0  30.10 -20.58\n",
       "1  36.85 -19.00"
      ]
     },
     "execution_count": 25,
     "metadata": {},
     "output_type": "execute_result"
    }
   ],
   "source": [
    "import matplotlib.pyplot as plt\n",
    "\n",
    "import pyspark\n",
    "from pyspark.sql import SparkSession\n",
    "import pandas as pd\n",
    "\n",
    "spark = SparkSession.builder.appName('pandasToSparkDF').getOrCreate()\n",
    "\n",
    "# Convert rdd into Spark DataFrame\n",
    "\n",
    "rdd_df = spark.createDataFrame(rdd, schema=[\"col1\", \"col2\"])\n",
    "\n",
    "# Convert Spark DataFrame into Pandas DataFrame\n",
    "rdd_df_pandas = rdd_df.toPandas()\n",
    "\n",
    "# Convert \"cluster_centers\" that you generated earlier into Pandas DataFrame\n",
    "cluster_centers_pandas = pd.DataFrame(clusters.centers, columns=[\"col1\", \"col2\"])\n",
    "\n",
    "cluster_centers_pandas.head()\n",
    "\n"
   ]
  },
  {
   "cell_type": "code",
   "execution_count": 31,
   "metadata": {},
   "outputs": [
    {
     "data": {
      "image/png": "[encoded data removed]",
      "text/plain": [
       "<matplotlib.figure.Figure at 0x7fe6567c5590>"
      ]
     },
     "metadata": {},
     "output_type": "display_data"
    }
   ],
   "source": [
    "# Create an overlaid scatter plot\n",
    "plt.scatter(rdd_df_pandas[\"col1\"], rdd_df_pandas[\"col2\"])\n",
    "\n",
    "plt.scatter(cluster_centers_pandas[\"col1\"], cluster_centers_pandas[\"col2\"], color=\"red\", marker=\"x\")\n",
    "plt.show()"
   ]
  },
  {
   "cell_type": "code",
   "execution_count": null,
   "metadata": {
    "collapsed": true
   },
   "outputs": [],
   "source": []
  }
 ],
 "metadata": {
  "kernelspec": {
   "display_name": "PySpark",
   "language": "python",
   "name": "pyspark"
  },
  "language_info": {
   "codemirror_mode": {
    "name": "ipython",
    "version": 2
   },
   "file_extension": ".py",
   "mimetype": "text/x-python",
   "name": "python",
   "nbconvert_exporter": "python",
   "pygments_lexer": "ipython2",
   "version": "2.7.14"
  }
 },
 "nbformat": 4,
 "nbformat_minor": 2
}
